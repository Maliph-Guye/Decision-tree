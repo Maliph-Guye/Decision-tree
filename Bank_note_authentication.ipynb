{
  "nbformat": 4,
  "nbformat_minor": 0,
  "metadata": {
    "colab": {
      "provenance": [],
      "authorship_tag": "ABX9TyMx9OGShmTpXXonLKYaoZR3",
      "include_colab_link": true
    },
    "kernelspec": {
      "name": "python3",
      "display_name": "Python 3"
    },
    "language_info": {
      "name": "python"
    }
  },
  "cells": [
    {
      "cell_type": "markdown",
      "metadata": {
        "id": "view-in-github",
        "colab_type": "text"
      },
      "source": [
        "<a href=\"https://colab.research.google.com/github/Maliph-Guye/Decision-tree/blob/main/Bank_note_authentication.ipynb\" target=\"_parent\"><img src=\"https://colab.research.google.com/assets/colab-badge.svg\" alt=\"Open In Colab\"/></a>"
      ]
    },
    {
      "cell_type": "code",
      "execution_count": null,
      "metadata": {
        "id": "UxvFReUo9dRN"
      },
      "outputs": [],
      "source": [
        "'''\n",
        "Description:\n",
        "'''"
      ]
    },
    {
      "cell_type": "code",
      "source": [
        "# Using Bank note dataset\n",
        "from random import seed        # Import seed function to initialize random number generator\n",
        "from random import randrange   # Import randrange to generate random integers\n",
        "from csv import reader         # Import reader to read data from CSV files"
      ],
      "metadata": {
        "id": "bYkYF9K_1jed"
      },
      "execution_count": 6,
      "outputs": []
    },
    {
      "cell_type": "code",
      "source": [
        "#loading the csv dataset\n",
        "filename = ('data_banknote_authentication.csv')\n",
        "def load_csv(filename):\n",
        "    file = open(filename, \"r\")\n",
        "    lines = reader(file)\n",
        "    dataset = list(lines)\n",
        "    return dataset"
      ],
      "metadata": {
        "id": "5AyXsQtG12ul"
      },
      "execution_count": 8,
      "outputs": []
    },
    {
      "cell_type": "code",
      "source": [
        "#Convert string colum to float\n",
        "def str_column_to_float(dataset, column):\n",
        "    for row in dataset:\n",
        "        row[column] = float(row[column].strip())"
      ],
      "metadata": {
        "id": "0WSeGqM66FFI"
      },
      "execution_count": 9,
      "outputs": []
    },
    {
      "cell_type": "code",
      "source": [
        "# Split the dataset into k folds\n",
        "def cross_validation_split(dataset, n_folds):\n",
        "    dataset_split = list()\n",
        "    dataset_copy = list(dataset)\n",
        "    fold_size = int(len(dataset) / n_folds)\n",
        "    for i in range(n_folds):\n",
        "        fold = list()\n",
        "        while len(fold) < fold_size:\n",
        "            index = randrange(len(dataset_copy))\n",
        "            fold.append(dataset_copy.pop(index))\n",
        "        dataset_split.append(fold)\n",
        "    return dataset_split"
      ],
      "metadata": {
        "id": "ZOsKSCx13qwR"
      },
      "execution_count": 12,
      "outputs": []
    },
    {
      "cell_type": "code",
      "source": [
        "#calculating accuracy percentage\n",
        "def accuracy_metric(actual, predicted):\n",
        "    correct = 0\n",
        "    for i in range(len(actual)):\n",
        "        if actual[i] == predicted[i]:\n",
        "            correct += 1\n",
        "    return correct / float(len(actual)) * 100.0\n"
      ],
      "metadata": {
        "id": "VprC-HrU7tvT"
      },
      "execution_count": 15,
      "outputs": []
    },
    {
      "cell_type": "code",
      "source": [
        "# Evaluating an algoruthm using a cross validation split\n",
        "def evaluate_algorithm(dataset, algorithm, n_folds, *args):\n",
        "    folds = cross_validation_split(dataset, n_folds)\n",
        "    scores = list()\n",
        "    for fold in folds:\n",
        "        train_set = list(folds)\n",
        "        train_set.remove(fold)\n",
        "        train_set = sum(train_set, [])\n",
        "        test_set = list()\n",
        "        for row in fold:\n",
        "            row_copy = list(row)\n",
        "            test_set.append(row_copy)\n",
        "            row_copy[-1] = None\n",
        "        predicted = algorithm(train_set, test_set, *args)\n",
        "        actual = [row[-1] for row in fold]\n",
        "        accuracy = accuracy_metric(actual, predicted)\n",
        "        scores.append(accuracy)\n",
        "    return scores"
      ],
      "metadata": {
        "id": "3R3SdMkA8dfQ"
      },
      "execution_count": 17,
      "outputs": []
    },
    {
      "cell_type": "code",
      "source": [
        "# Splitting a dataset based on attribute and attribute value\n",
        "def test_split(index, value, dataset):\n",
        "  left, right = list(), list()\n",
        "  for row in dataset:\n",
        "    if row[index] < value:\n",
        "      left.append(row)\n",
        "    else:\n",
        "      right.append(row)\n",
        "  return left, right"
      ],
      "metadata": {
        "id": "IUNs9Nfe-GTp"
      },
      "execution_count": 18,
      "outputs": []
    },
    {
      "cell_type": "code",
      "source": [
        "# Calculating the Gini index for a split dataset\n",
        "def gini_index(groups, classes):\n",
        "  #Count all samples at split point\n",
        "  n_instances = float(sum([len(group) for group in groups]))\n",
        "  # sum weighted Gini index for each group\n",
        "  gini = 0.0\n",
        "  for group in groups:\n",
        "    size = float(len(group))\n",
        "    #avoid divide by zero\n",
        "    if size == 0:\n",
        "      continue\n",
        "    score = 0.0\n",
        "    # score the group based on the score for each class\n",
        "    for class_val in classes:\n",
        "        p = [row[-1] for row in group].count(class_val) / size\n",
        "        score += p * p\n",
        "    # weight the group score by its relative size\n",
        "    gini += (1.0 - score) * (size / n_instances)\n",
        "  return gini"
      ],
      "metadata": {
        "id": "qq55BeP7AZHR"
      },
      "execution_count": 25,
      "outputs": []
    },
    {
      "cell_type": "code",
      "source": [
        "#selecting the best split point for a dataset\n",
        "def get_split(dataset):\n",
        "  class_values = list(set(row[-1] for row in dataset))\n",
        "  b_index, b_value, b_score, b_groups = 999, 999, 999, None\n",
        "  for index in range(len(dataset[0])-1):\n",
        "    for row in dataset:\n",
        "      groups = test_split(index, row[index], dataset)\n",
        "      gini = gini_index(groups, class_values)\n",
        "      if gini < b_score:\n",
        "        b_index, b_value, b_score, b_groups = index, row[index], gini, groups\n",
        "  return {'index':b_index, 'value':b_value, 'groups':b_groups}"
      ],
      "metadata": {
        "id": "Mo0JbO3SBzRA"
      },
      "execution_count": 26,
      "outputs": []
    },
    {
      "cell_type": "code",
      "source": [
        "# Creating a terminal node value\n",
        "def to_terminal(group):\n",
        "  outcomes = [row[-1] for row in group]\n",
        "  return max(set(outcomes), key=outcomes.count)"
      ],
      "metadata": {
        "id": "zfBQ6d9VEVoM"
      },
      "execution_count": 29,
      "outputs": []
    },
    {
      "cell_type": "code",
      "source": [
        "#creating child splits for node or make terminal\n",
        "def split(node, max_depth, min_size, depth):\n",
        "  left, right = node['groups']\n",
        "  del(node['groups'])\n",
        "\n",
        "  # check for a no split\n",
        "  if not left or not right:\n",
        "    node['left'] = node['right'] = to_terminal(left + right)\n",
        "    return\n",
        "  #check for a max depth\n",
        "  if depth >= max_depth:\n",
        "    node['left'], node['right'] = to_terminal(left), to_terminal(right)\n",
        "    return\n",
        "  #process left child\n",
        "  if len(left) <= min_size:\n",
        "    node['left'] = to_terminal(left)\n",
        "  else:\n",
        "    node['left'] = get_split(left)\n",
        "    split(node['left'], max_depth, min_size, depth+1)\n",
        "  # process right child\n",
        "  if len(right) <= min_size:\n",
        "    node['right'] = to_terminal(right)\n",
        "  else:\n",
        "    node['right'] = get_split(right)\n",
        "    split(node['right'], max_depth, min_size, depth+1)"
      ],
      "metadata": {
        "id": "Kru-AH38E4fj"
      },
      "execution_count": 31,
      "outputs": []
    },
    {
      "cell_type": "code",
      "source": [],
      "metadata": {
        "id": "jKfTtW8PGTv-"
      },
      "execution_count": null,
      "outputs": []
    },
    {
      "cell_type": "code",
      "source": [
        "#Building a decision tree\n",
        "def build_tree(train, max_depth, min_size):\n",
        "  root = get_split(train)\n",
        "  split(root, max_depth, min_size, 1)\n",
        "  return root"
      ],
      "metadata": {
        "id": "t0CS_uXtFTI9"
      },
      "execution_count": 32,
      "outputs": []
    },
    {
      "cell_type": "code",
      "source": [
        "# Making a prediction with a decision tree\n",
        "def predict(node, row):\n",
        "  if row[node['index']] < node['value']:\n",
        "    if isinstance(node['left'], dict):\n",
        "      return predict(node['left'], row)\n",
        "    else:\n",
        "      return node['left']\n",
        "  else:\n",
        "    if isinstance(node['right'], dict):\n",
        "      return predict(node['right'], row)\n",
        "    else:\n",
        "      return node['right']"
      ],
      "metadata": {
        "id": "wOWNOwR8Gu-h"
      },
      "execution_count": 35,
      "outputs": []
    },
    {
      "cell_type": "code",
      "source": [
        "# Classification and Regression Tree Algorithm\n",
        "def decision_tree(train, test, max_depth, min_size):\n",
        "  tree = build_tree(train, max_depth, min_size)\n",
        "  predictions = list()\n",
        "  for row in test:\n",
        "    prediction = predict(tree, row)\n",
        "    predictions.append(prediction)\n",
        "  return(predictions)"
      ],
      "metadata": {
        "id": "WoU8GMzpHZWk"
      },
      "execution_count": 36,
      "outputs": []
    },
    {
      "cell_type": "code",
      "source": [
        "#Testing the bank note dataset\n",
        "seed(1) # Set the random seed for reproducibility (same results each run)\n",
        "#Load and prepare data\n",
        "filename = 'data_banknote_authentication.csv'\n",
        "dataset = load_csv(filename)\n",
        "\n",
        "#convert string attributes to integers\n",
        "for i in range(len(dataset[0])):\n",
        "  str_column_to_float(dataset, i)\n"
      ],
      "metadata": {
        "id": "IwA5WaFPIYD0"
      },
      "execution_count": 38,
      "outputs": []
    },
    {
      "cell_type": "code",
      "source": [
        "#Evaluate Algorithm\n",
        "n_folds = 5\n",
        "max_depth = 5\n",
        "min_size = 10\n",
        "scores = evaluate_algorithm(dataset, decision_tree, n_folds, max_depth, min_size)\n",
        "print('Scores: %s' % scores)\n",
        "print('Mean Accuracy: %.3f%%' % (sum(scores)/float(len(scores))))"
      ],
      "metadata": {
        "colab": {
          "base_uri": "https://localhost:8080/"
        },
        "id": "F-OifADeJJKg",
        "outputId": "379dba17-4896-49cf-c510-091d2b460fff"
      },
      "execution_count": 40,
      "outputs": [
        {
          "output_type": "stream",
          "name": "stdout",
          "text": [
            "Scores: [96.35036496350365, 97.08029197080292, 97.44525547445255, 98.17518248175182, 97.44525547445255]\n",
            "Mean Accuracy: 97.299%\n"
          ]
        }
      ]
    }
  ]
}